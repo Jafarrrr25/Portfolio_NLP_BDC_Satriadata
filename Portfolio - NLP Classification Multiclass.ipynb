{
 "cells": [
  {
   "cell_type": "markdown",
   "metadata": {},
   "source": [
    "# Preprocessing"
   ]
  },
  {
   "cell_type": "code",
   "execution_count": null,
   "metadata": {
    "execution": {
     "iopub.execute_input": "2025-08-04T12:13:31.218405Z",
     "iopub.status.busy": "2025-08-04T12:13:31.217908Z",
     "iopub.status.idle": "2025-08-04T12:13:35.495857Z",
     "shell.execute_reply": "2025-08-04T12:13:35.495076Z",
     "shell.execute_reply.started": "2025-08-04T12:13:31.218379Z"
    },
    "trusted": true
   },
   "outputs": [
    {
     "name": "stdout",
     "output_type": "stream",
     "text": [
      "Requirement already satisfied: sastrawi in c:\\users\\fajar\\appdata\\local\\programs\\python\\python39\\lib\\site-packages (1.0.1)\n"
     ]
    },
    {
     "name": "stderr",
     "output_type": "stream",
     "text": [
      "WARNING: Ignoring invalid distribution -atplotlib (c:\\users\\fajar\\appdata\\local\\programs\\python\\python39\\lib\\site-packages)\n",
      "WARNING: Ignoring invalid distribution -atplotlib (c:\\users\\fajar\\appdata\\local\\programs\\python\\python39\\lib\\site-packages)\n",
      "\n",
      "[notice] A new release of pip is available: 24.0 -> 25.2\n",
      "[notice] To update, run: python.exe -m pip install --upgrade pip\n"
     ]
    }
   ],
   "source": []
  },
  {
   "cell_type": "code",
   "execution_count": 25,
   "metadata": {
    "_cell_guid": "b1076dfc-b9ad-4769-8c92-a6c4dae69d19",
    "_uuid": "8f2839f25d086af736a60e9eeb907d3b93b6e0e5",
    "execution": {
     "iopub.execute_input": "2025-08-04T12:13:35.497730Z",
     "iopub.status.busy": "2025-08-04T12:13:35.497500Z",
     "iopub.status.idle": "2025-08-04T12:13:35.521950Z",
     "shell.execute_reply": "2025-08-04T12:13:35.521176Z",
     "shell.execute_reply.started": "2025-08-04T12:13:35.497706Z"
    },
    "trusted": true
   },
   "outputs": [],
   "source": [
    "import re\n",
    "import numpy as np\n",
    "import pandas as pd\n",
    "import tensorflow as tf\n",
    "import nltk\n",
    "from sklearn.model_selection import train_test_split\n",
    "from sklearn.preprocessing import LabelEncoder\n",
    "from tensorflow.keras.preprocessing.text import Tokenizer\n",
    "from tensorflow.keras.preprocessing.sequence import pad_sequences\n",
    "\n",
    "from Sastrawi.Stemmer.StemmerFactory import StemmerFactory\n",
    "from Sastrawi.StopWordRemover.StopWordRemoverFactory import StopWordRemoverFactory"
   ]
  },
  {
   "cell_type": "code",
   "execution_count": 26,
   "metadata": {
    "execution": {
     "iopub.execute_input": "2025-08-04T12:13:35.522795Z",
     "iopub.status.busy": "2025-08-04T12:13:35.522615Z",
     "iopub.status.idle": "2025-08-04T12:13:35.887975Z",
     "shell.execute_reply": "2025-08-04T12:13:35.887332Z",
     "shell.execute_reply.started": "2025-08-04T12:13:35.522779Z"
    },
    "trusted": true
   },
   "outputs": [
    {
     "name": "stderr",
     "output_type": "stream",
     "text": [
      "[nltk_data] Downloading package stopwords to\n",
      "[nltk_data]     C:\\Users\\fajar\\AppData\\Roaming\\nltk_data...\n",
      "[nltk_data]   Package stopwords is already up-to-date!\n",
      "[nltk_data] Downloading package wordnet to\n",
      "[nltk_data]     C:\\Users\\fajar\\AppData\\Roaming\\nltk_data...\n",
      "[nltk_data]   Package wordnet is already up-to-date!\n",
      "[nltk_data] Downloading package omw-1.4 to\n",
      "[nltk_data]     C:\\Users\\fajar\\AppData\\Roaming\\nltk_data...\n",
      "[nltk_data]   Package omw-1.4 is already up-to-date!\n"
     ]
    },
    {
     "data": {
      "text/plain": [
       "True"
      ]
     },
     "execution_count": 26,
     "metadata": {},
     "output_type": "execute_result"
    }
   ],
   "source": [
    "# Download necessary NLTK resources\n",
    "nltk.download('stopwords')\n",
    "nltk.download('wordnet')\n",
    "nltk.download('omw-1.4')"
   ]
  },
  {
   "cell_type": "code",
   "execution_count": 27,
   "metadata": {
    "execution": {
     "iopub.execute_input": "2025-08-04T12:13:35.889541Z",
     "iopub.status.busy": "2025-08-04T12:13:35.889333Z",
     "iopub.status.idle": "2025-08-04T12:13:35.945633Z",
     "shell.execute_reply": "2025-08-04T12:13:35.944758Z",
     "shell.execute_reply.started": "2025-08-04T12:13:35.889524Z"
    },
    "trusted": true
   },
   "outputs": [],
   "source": [
    "data = pd.read_csv(\"D:/Kuliah/Semester 8/Portfolio/NLP/dataset_penyisihan_bdc_2024.csv\", delimiter=\";\")"
   ]
  },
  {
   "cell_type": "code",
   "execution_count": 28,
   "metadata": {
    "execution": {
     "iopub.execute_input": "2025-08-04T12:13:35.946770Z",
     "iopub.status.busy": "2025-08-04T12:13:35.946472Z",
     "iopub.status.idle": "2025-08-04T12:13:35.972223Z",
     "shell.execute_reply": "2025-08-04T12:13:35.971434Z",
     "shell.execute_reply.started": "2025-08-04T12:13:35.946744Z"
    },
    "trusted": true
   },
   "outputs": [
    {
     "name": "stdout",
     "output_type": "stream",
     "text": [
      "<class 'pandas.core.frame.DataFrame'>\n",
      "RangeIndex: 5000 entries, 0 to 4999\n",
      "Data columns (total 2 columns):\n",
      " #   Column  Non-Null Count  Dtype \n",
      "---  ------  --------------  ----- \n",
      " 0   text    5000 non-null   object\n",
      " 1   label   5000 non-null   object\n",
      "dtypes: object(2)\n",
      "memory usage: 78.2+ KB\n"
     ]
    }
   ],
   "source": [
    "data.info()"
   ]
  },
  {
   "cell_type": "code",
   "execution_count": 29,
   "metadata": {
    "execution": {
     "iopub.execute_input": "2025-08-04T12:13:35.973305Z",
     "iopub.status.busy": "2025-08-04T12:13:35.973006Z",
     "iopub.status.idle": "2025-08-04T12:13:35.996579Z",
     "shell.execute_reply": "2025-08-04T12:13:35.995884Z",
     "shell.execute_reply.started": "2025-08-04T12:13:35.973279Z"
    },
    "trusted": true
   },
   "outputs": [
    {
     "data": {
      "text/html": [
       "<div>\n",
       "<style scoped>\n",
       "    .dataframe tbody tr th:only-of-type {\n",
       "        vertical-align: middle;\n",
       "    }\n",
       "\n",
       "    .dataframe tbody tr th {\n",
       "        vertical-align: top;\n",
       "    }\n",
       "\n",
       "    .dataframe thead th {\n",
       "        text-align: right;\n",
       "    }\n",
       "</style>\n",
       "<table border=\"1\" class=\"dataframe\">\n",
       "  <thead>\n",
       "    <tr style=\"text-align: right;\">\n",
       "      <th></th>\n",
       "      <th>text</th>\n",
       "      <th>label</th>\n",
       "    </tr>\n",
       "  </thead>\n",
       "  <tbody>\n",
       "    <tr>\n",
       "      <th>0</th>\n",
       "      <td>Kunjungan Prabowo ini untuk meresmikan dan men...</td>\n",
       "      <td>Sumber Daya Alam</td>\n",
       "    </tr>\n",
       "    <tr>\n",
       "      <th>1</th>\n",
       "      <td>RT Anies dapat tepuk tangan meriah saat jadi R...</td>\n",
       "      <td>Politik</td>\n",
       "    </tr>\n",
       "    <tr>\n",
       "      <th>2</th>\n",
       "      <td>@CIqXqwGAT04tMtx4OCATxjoVq7vv/Y8HeYaIOgMFg8Y= ...</td>\n",
       "      <td>Demografi</td>\n",
       "    </tr>\n",
       "    <tr>\n",
       "      <th>3</th>\n",
       "      <td>RT @L3R8XFBw3WGbxRPSj0/0hHZTbqVGX7qtfwRg9zmhK7...</td>\n",
       "      <td>Politik</td>\n",
       "    </tr>\n",
       "    <tr>\n",
       "      <th>4</th>\n",
       "      <td>Anies Baswedan Harap ASN termasuk TNI dan Polr...</td>\n",
       "      <td>Politik</td>\n",
       "    </tr>\n",
       "  </tbody>\n",
       "</table>\n",
       "</div>"
      ],
      "text/plain": [
       "                                                text             label\n",
       "0  Kunjungan Prabowo ini untuk meresmikan dan men...  Sumber Daya Alam\n",
       "1  RT Anies dapat tepuk tangan meriah saat jadi R...           Politik\n",
       "2  @CIqXqwGAT04tMtx4OCATxjoVq7vv/Y8HeYaIOgMFg8Y= ...         Demografi\n",
       "3  RT @L3R8XFBw3WGbxRPSj0/0hHZTbqVGX7qtfwRg9zmhK7...           Politik\n",
       "4  Anies Baswedan Harap ASN termasuk TNI dan Polr...           Politik"
      ]
     },
     "execution_count": 29,
     "metadata": {},
     "output_type": "execute_result"
    }
   ],
   "source": [
    "data.head()"
   ]
  },
  {
   "cell_type": "code",
   "execution_count": 30,
   "metadata": {
    "execution": {
     "iopub.execute_input": "2025-08-04T12:13:35.997547Z",
     "iopub.status.busy": "2025-08-04T12:13:35.997299Z",
     "iopub.status.idle": "2025-08-04T12:13:36.003242Z",
     "shell.execute_reply": "2025-08-04T12:13:36.002603Z",
     "shell.execute_reply.started": "2025-08-04T12:13:35.997524Z"
    },
    "trusted": true
   },
   "outputs": [
    {
     "name": "stdout",
     "output_type": "stream",
     "text": [
      "['Sumber Daya Alam' 'Politik' 'Demografi' 'Pertahanan dan Keamanan'\n",
      " 'Ideologi' 'Ekonomi' 'Sosial Budaya' 'Geografi']\n",
      "Politik                    2972\n",
      "Sosial Budaya               587\n",
      "Pertahanan dan Keamanan     400\n",
      "Ideologi                    400\n",
      "Ekonomi                     367\n",
      "Sumber Daya Alam            192\n",
      "Demografi                    62\n",
      "Geografi                     20\n",
      "Name: label, dtype: int64\n"
     ]
    }
   ],
   "source": [
    "print(data['label'].unique())\n",
    "print(data.label.value_counts())"
   ]
  },
  {
   "cell_type": "markdown",
   "metadata": {},
   "source": [
    "### Stopword dan Lematisasi"
   ]
  },
  {
   "cell_type": "code",
   "execution_count": 31,
   "metadata": {
    "execution": {
     "iopub.execute_input": "2025-08-04T12:13:36.531327Z",
     "iopub.status.busy": "2025-08-04T12:13:36.531068Z",
     "iopub.status.idle": "2025-08-04T12:13:36.542589Z",
     "shell.execute_reply": "2025-08-04T12:13:36.541924Z",
     "shell.execute_reply.started": "2025-08-04T12:13:36.531310Z"
    },
    "trusted": true
   },
   "outputs": [],
   "source": [
    "# Initialize Sastrawi Stemmer and Stopword Remover\n",
    "stemmer = StemmerFactory().create_stemmer()\n",
    "stopwords = set(StopWordRemoverFactory().get_stop_words())"
   ]
  },
  {
   "cell_type": "markdown",
   "metadata": {},
   "source": [
    "### Cleaning"
   ]
  },
  {
   "cell_type": "code",
   "execution_count": null,
   "metadata": {
    "execution": {
     "iopub.execute_input": "2025-08-04T12:13:37.485464Z",
     "iopub.status.busy": "2025-08-04T12:13:37.484719Z"
    },
    "trusted": true
   },
   "outputs": [],
   "source": [
    "# Text Cleaning Function\n",
    "def clean_text(text):\n",
    "    text = text.lower()  # lowercase\n",
    "    text = re.sub(r'http\\S+', '', text)  # hapus URL\n",
    "    text = re.sub(r'[^a-zA-Z0-9\\s]', '', text)  # hapus karakter non-alfanumerik\n",
    "    text = re.sub(r'\\s+', ' ', text).strip()  # hapus spasi berlebih\n",
    "    words = text.split()  # tokenisasi manual\n",
    "    # hapus stopword dan stemming\n",
    "    words = [stemmer.stem(word) for word in words if word not in stopwords]\n",
    "    return ' '.join(words)\n",
    "\n",
    "data['clean_text'] = data['text'].apply(clean_text)"
   ]
  },
  {
   "cell_type": "code",
   "execution_count": 33,
   "metadata": {},
   "outputs": [],
   "source": [
    "def is_noise_word(word):\n",
    "    # Buang kata panjang yang tidak natural\n",
    "    if len(word) > 20:\n",
    "        return True\n",
    "\n",
    "    # Terlalu banyak konsonan berturut-turut\n",
    "    if re.search(r'[bcdfghjklmnpqrstvwxyz]{5,}', word):\n",
    "        return True\n",
    "\n",
    "    # Rasio vokal sangat rendah (< 20%)\n",
    "    num_vowel = len(re.findall(r'[aeiou]', word))\n",
    "    if len(word) > 8 and (num_vowel / len(word)) < 0.2:\n",
    "        return True\n",
    "\n",
    "    # Campuran huruf dan angka (terlihat seperti hash/id)\n",
    "    if re.search(r'[a-zA-Z]', word) and re.search(r'\\d', word):\n",
    "        return True\n",
    "\n",
    "    return False\n",
    "\n",
    "def remove_noise_words(text):\n",
    "    \n",
    "    words = text.split()\n",
    "    clean_words = [\n",
    "        word for word in words\n",
    "        if not is_noise_word(word) and not word.isdigit()\n",
    "    ]\n",
    "    return ' '.join(clean_words)\n",
    "\n",
    "data['clean_text'] = data['clean_text'].apply(remove_noise_words)"
   ]
  },
  {
   "cell_type": "code",
   "execution_count": 34,
   "metadata": {
    "trusted": true
   },
   "outputs": [
    {
     "data": {
      "text/html": [
       "<div>\n",
       "<style scoped>\n",
       "    .dataframe tbody tr th:only-of-type {\n",
       "        vertical-align: middle;\n",
       "    }\n",
       "\n",
       "    .dataframe tbody tr th {\n",
       "        vertical-align: top;\n",
       "    }\n",
       "\n",
       "    .dataframe thead th {\n",
       "        text-align: right;\n",
       "    }\n",
       "</style>\n",
       "<table border=\"1\" class=\"dataframe\">\n",
       "  <thead>\n",
       "    <tr style=\"text-align: right;\">\n",
       "      <th></th>\n",
       "      <th>text</th>\n",
       "      <th>label</th>\n",
       "      <th>clean_text</th>\n",
       "    </tr>\n",
       "  </thead>\n",
       "  <tbody>\n",
       "    <tr>\n",
       "      <th>0</th>\n",
       "      <td>Kunjungan Prabowo ini untuk meresmikan dan men...</td>\n",
       "      <td>Sumber Daya Alam</td>\n",
       "      <td>kunjung prabowo resmi serah proyek bantu air b...</td>\n",
       "    </tr>\n",
       "    <tr>\n",
       "      <th>1</th>\n",
       "      <td>RT Anies dapat tepuk tangan meriah saat jadi R...</td>\n",
       "      <td>Politik</td>\n",
       "      <td>rt anies tepuk tangan riah jadi rektor wajib m...</td>\n",
       "    </tr>\n",
       "    <tr>\n",
       "      <th>2</th>\n",
       "      <td>@CIqXqwGAT04tMtx4OCATxjoVq7vv/Y8HeYaIOgMFg8Y= ...</td>\n",
       "      <td>Demografi</td>\n",
       "      <td>emng bener sih dukung yg goblok jg dg dukung h...</td>\n",
       "    </tr>\n",
       "    <tr>\n",
       "      <th>3</th>\n",
       "      <td>RT @L3R8XFBw3WGbxRPSj0/0hHZTbqVGX7qtfwRg9zmhK7...</td>\n",
       "      <td>Politik</td>\n",
       "      <td>rt waktu anies sikap kritis kerja pak prabowo ...</td>\n",
       "    </tr>\n",
       "    <tr>\n",
       "      <th>4</th>\n",
       "      <td>Anies Baswedan Harap ASN termasuk TNI dan Polr...</td>\n",
       "      <td>Politik</td>\n",
       "      <td>anies baswedan harap asn masuk tni polri pegan...</td>\n",
       "    </tr>\n",
       "  </tbody>\n",
       "</table>\n",
       "</div>"
      ],
      "text/plain": [
       "                                                text             label  \\\n",
       "0  Kunjungan Prabowo ini untuk meresmikan dan men...  Sumber Daya Alam   \n",
       "1  RT Anies dapat tepuk tangan meriah saat jadi R...           Politik   \n",
       "2  @CIqXqwGAT04tMtx4OCATxjoVq7vv/Y8HeYaIOgMFg8Y= ...         Demografi   \n",
       "3  RT @L3R8XFBw3WGbxRPSj0/0hHZTbqVGX7qtfwRg9zmhK7...           Politik   \n",
       "4  Anies Baswedan Harap ASN termasuk TNI dan Polr...           Politik   \n",
       "\n",
       "                                          clean_text  \n",
       "0  kunjung prabowo resmi serah proyek bantu air b...  \n",
       "1  rt anies tepuk tangan riah jadi rektor wajib m...  \n",
       "2  emng bener sih dukung yg goblok jg dg dukung h...  \n",
       "3  rt waktu anies sikap kritis kerja pak prabowo ...  \n",
       "4  anies baswedan harap asn masuk tni polri pegan...  "
      ]
     },
     "execution_count": 34,
     "metadata": {},
     "output_type": "execute_result"
    }
   ],
   "source": [
    "data.head()"
   ]
  },
  {
   "cell_type": "code",
   "execution_count": 49,
   "metadata": {},
   "outputs": [],
   "source": [
    "import pickle\n",
    "\n",
    "# Buat dictionary berisi semua objek\n",
    "text_processing_objects = {\n",
    "    \"stemmer\": stemmer,\n",
    "    \"stopwords\": stopwords,\n",
    "    \"clean_text\": clean_text,\n",
    "    \"is_noise_word\": is_noise_word,\n",
    "    \"remove_noise_words\": remove_noise_words\n",
    "}\n",
    "\n",
    "# Simpan ke .pkl\n",
    "with open(\"text_processing.pkl\", \"wb\") as f:\n",
    "    pickle.dump(text_processing_objects, f)"
   ]
  },
  {
   "cell_type": "code",
   "execution_count": 35,
   "metadata": {
    "trusted": true
   },
   "outputs": [],
   "source": [
    "data.to_csv('data/prepData1.csv', index=False)"
   ]
  },
  {
   "cell_type": "markdown",
   "metadata": {},
   "source": [
    "# MODEL"
   ]
  },
  {
   "cell_type": "code",
   "execution_count": 53,
   "metadata": {},
   "outputs": [],
   "source": [
    "import pandas as pd\n",
    "from sklearn.model_selection import train_test_split\n",
    "from sklearn.preprocessing import LabelEncoder\n",
    "from tensorflow.keras.preprocessing.text import Tokenizer\n",
    "from tensorflow.keras.preprocessing.sequence import pad_sequences\n",
    "import tensorflow as tf\n",
    "import pickle\n",
    "\n",
    "dataModel = pd.read_csv(\"data/prepData1.csv\", delimiter=',')"
   ]
  },
  {
   "cell_type": "code",
   "execution_count": 54,
   "metadata": {},
   "outputs": [
    {
     "data": {
      "text/plain": [
       "text          0\n",
       "label         0\n",
       "clean_text    9\n",
       "dtype: int64"
      ]
     },
     "execution_count": 54,
     "metadata": {},
     "output_type": "execute_result"
    }
   ],
   "source": [
    "dataModel.isna().sum()"
   ]
  },
  {
   "cell_type": "code",
   "execution_count": 55,
   "metadata": {},
   "outputs": [],
   "source": [
    "dataModel = dataModel.dropna(subset=['clean_text'])"
   ]
  },
  {
   "cell_type": "markdown",
   "metadata": {},
   "source": [
    "### Random Over Sampling"
   ]
  },
  {
   "cell_type": "code",
   "execution_count": 56,
   "metadata": {},
   "outputs": [],
   "source": [
    "from imblearn.over_sampling import RandomOverSampler\n",
    "\n",
    "ros = RandomOverSampler(random_state=42)\n",
    "X_resampled, y_resampled = ros.fit_resample(dataModel[['clean_text']], dataModel['label'])"
   ]
  },
  {
   "cell_type": "markdown",
   "metadata": {},
   "source": [
    "### Padding and Tokenizing"
   ]
  },
  {
   "cell_type": "code",
   "execution_count": 57,
   "metadata": {},
   "outputs": [],
   "source": [
    "# Tokenizer tanpa limit num_words (agar sesuai dengan FastText vocab)\n",
    "tokenizer = Tokenizer(oov_token=\"<OOV>\")\n",
    "tokenizer.fit_on_texts(X_resampled['clean_text'])\n",
    "\n",
    "MAX_LEN = 100\n",
    "sequences = tokenizer.texts_to_sequences(X_resampled['clean_text'])\n",
    "padded_sequences = pad_sequences(sequences, maxlen=MAX_LEN, padding='post', truncating='post')"
   ]
  },
  {
   "cell_type": "markdown",
   "metadata": {},
   "source": [
    "### Label Encode"
   ]
  },
  {
   "cell_type": "code",
   "execution_count": 58,
   "metadata": {},
   "outputs": [],
   "source": [
    "# Encode label\n",
    "le = LabelEncoder()\n",
    "encoded_labels = le.fit_transform(y_resampled)\n",
    "n_classes = len(le.classes_)"
   ]
  },
  {
   "cell_type": "code",
   "execution_count": 59,
   "metadata": {},
   "outputs": [],
   "source": [
    "# Train-Test Split\n",
    "X_train, X_test, y_train, y_test = train_test_split(\n",
    "    padded_sequences, encoded_labels,\n",
    "    test_size=0.2,\n",
    "    stratify=encoded_labels,\n",
    "    random_state=42\n",
    ")\n",
    "\n",
    "# One-hot encoding untuk output\n",
    "y_train = tf.keras.utils.to_categorical(y_train, num_classes=n_classes)\n",
    "y_test = tf.keras.utils.to_categorical(y_test, num_classes=n_classes)"
   ]
  },
  {
   "cell_type": "markdown",
   "metadata": {},
   "source": [
    "### Pretrain FastText Bahasa"
   ]
  },
  {
   "cell_type": "code",
   "execution_count": 60,
   "metadata": {},
   "outputs": [],
   "source": [
    "# ! pip install fasttext-wheel"
   ]
  },
  {
   "cell_type": "code",
   "execution_count": 61,
   "metadata": {},
   "outputs": [
    {
     "name": "stderr",
     "output_type": "stream",
     "text": [
      "Warning : `load_model` does not return WordVectorModel or SupervisedModel any more, but a `FastText` object which is very similar.\n"
     ]
    }
   ],
   "source": [
    "import numpy as np\n",
    "import fasttext\n",
    "\n",
    "ft = fasttext.load_model('data/cc.id.300.bin')\n",
    "\n",
    "EMBEDDING_DIM = 300\n",
    "word_index = tokenizer.word_index\n",
    "embedding_matrix = np.zeros((len(word_index) + 1, EMBEDDING_DIM))\n",
    "\n",
    "for word, i in word_index.items():\n",
    "    embedding_matrix[i] = ft.get_word_vector(word)\n"
   ]
  },
  {
   "cell_type": "code",
   "execution_count": 69,
   "metadata": {},
   "outputs": [
    {
     "name": "stdout",
     "output_type": "stream",
     "text": [
      "Epoch 1/15\n",
      "475/475 [==============================] - 80s 157ms/step - loss: 2.7343 - accuracy: 0.2399 - val_loss: 1.7456 - val_accuracy: 0.3678\n",
      "Epoch 2/15\n",
      "475/475 [==============================] - 75s 158ms/step - loss: 1.6871 - accuracy: 0.3812 - val_loss: 1.5358 - val_accuracy: 0.4483\n",
      "Epoch 3/15\n",
      "475/475 [==============================] - 76s 159ms/step - loss: 1.5297 - accuracy: 0.4885 - val_loss: 1.3936 - val_accuracy: 0.5567\n",
      "Epoch 4/15\n",
      "475/475 [==============================] - 77s 162ms/step - loss: 1.3481 - accuracy: 0.5668 - val_loss: 1.1535 - val_accuracy: 0.6204\n",
      "Epoch 5/15\n",
      "475/475 [==============================] - 77s 162ms/step - loss: 1.2529 - accuracy: 0.6009 - val_loss: 1.1635 - val_accuracy: 0.6388\n",
      "Epoch 6/15\n",
      "475/475 [==============================] - 77s 161ms/step - loss: 1.2184 - accuracy: 0.6248 - val_loss: 1.0669 - val_accuracy: 0.6796\n",
      "Epoch 7/15\n",
      "475/475 [==============================] - 77s 162ms/step - loss: 1.1165 - accuracy: 0.6568 - val_loss: 0.9737 - val_accuracy: 0.7238\n",
      "Epoch 8/15\n",
      "475/475 [==============================] - 77s 163ms/step - loss: 1.1313 - accuracy: 0.6674 - val_loss: 0.9691 - val_accuracy: 0.7151\n",
      "Epoch 9/15\n",
      "475/475 [==============================] - 78s 164ms/step - loss: 1.0549 - accuracy: 0.6896 - val_loss: 0.9881 - val_accuracy: 0.7019\n",
      "Epoch 10/15\n",
      "475/475 [==============================] - 77s 163ms/step - loss: 0.9756 - accuracy: 0.7151 - val_loss: 0.8730 - val_accuracy: 0.7422\n",
      "Epoch 11/15\n",
      "475/475 [==============================] - 78s 163ms/step - loss: 0.9865 - accuracy: 0.7196 - val_loss: 0.8244 - val_accuracy: 0.7666\n",
      "Epoch 12/15\n",
      "475/475 [==============================] - 77s 162ms/step - loss: 0.9064 - accuracy: 0.7382 - val_loss: 0.8035 - val_accuracy: 0.7732\n",
      "Epoch 13/15\n",
      "475/475 [==============================] - 79s 166ms/step - loss: 0.9662 - accuracy: 0.7304 - val_loss: 0.8259 - val_accuracy: 0.7632\n",
      "Epoch 14/15\n",
      "475/475 [==============================] - 77s 163ms/step - loss: 0.8467 - accuracy: 0.7624 - val_loss: 0.7597 - val_accuracy: 0.7840\n",
      "Epoch 15/15\n",
      "475/475 [==============================] - 77s 162ms/step - loss: 0.9090 - accuracy: 0.7479 - val_loss: 0.9852 - val_accuracy: 0.7085\n"
     ]
    }
   ],
   "source": [
    "from tensorflow.keras.regularizers import l2\n",
    "from tensorflow.keras.callbacks import EarlyStopping\n",
    "\n",
    "embedding_layer = tf.keras.layers.Embedding(\n",
    "    input_dim=len(word_index) + 1,\n",
    "    output_dim=EMBEDDING_DIM,\n",
    "    weights=[embedding_matrix],\n",
    "    input_length=MAX_LEN,\n",
    "    trainable=False\n",
    ")\n",
    "\n",
    "lstm_model = tf.keras.models.Sequential([\n",
    "    embedding_layer,\n",
    "    tf.keras.layers.Bidirectional(tf.keras.layers.LSTM(128, return_sequences=True, kernel_regularizer=l2(0.01))),\n",
    "    tf.keras.layers.Dropout(0.7),\n",
    "    \n",
    "    tf.keras.layers.Bidirectional(tf.keras.layers.LSTM(64, kernel_regularizer=l2(0.01))),\n",
    "    tf.keras.layers.Dropout(0.7),\n",
    "    \n",
    "    tf.keras.layers.Dense(128, activation='relu'),\n",
    "    tf.keras.layers.Dropout(0.7),\n",
    "    \n",
    "    tf.keras.layers.Dense(n_classes, activation='softmax'),\n",
    "])\n",
    "\n",
    "# Learning rate scheduling\n",
    "lr_schedule = tf.keras.optimizers.schedules.ExponentialDecay(\n",
    "    initial_learning_rate=1e-3, decay_steps=1000, decay_rate=0.9)\n",
    "optimizer = tf.keras.optimizers.Adam(learning_rate=lr_schedule)\n",
    "\n",
    "lstm_model.compile(loss='categorical_crossentropy', optimizer=optimizer, metrics=['accuracy'])\n",
    "\n",
    "early_stop = EarlyStopping(\n",
    "    monitor='val_loss',\n",
    "    patience=3,\n",
    "    restore_best_weights=True\n",
    ")\n",
    "\n",
    "history = lstm_model.fit(X_train, y_train,\n",
    "                    epochs=15,\n",
    "                    batch_size=32,\n",
    "                    validation_split=0.2,\n",
    "                    callbacks = [early_stop])"
   ]
  },
  {
   "cell_type": "code",
   "execution_count": 63,
   "metadata": {},
   "outputs": [
    {
     "name": "stdout",
     "output_type": "stream",
     "text": [
      "Model: \"sequential_1\"\n",
      "_________________________________________________________________\n",
      " Layer (type)                Output Shape              Param #   \n",
      "=================================================================\n",
      " embedding_1 (Embedding)     (None, 100, 300)          3042900   \n",
      "                                                                 \n",
      " bidirectional_2 (Bidirecti  (None, 100, 256)          439296    \n",
      " onal)                                                           \n",
      "                                                                 \n",
      " dropout_3 (Dropout)         (None, 100, 256)          0         \n",
      "                                                                 \n",
      " bidirectional_3 (Bidirecti  (None, 256)               394240    \n",
      " onal)                                                           \n",
      "                                                                 \n",
      " dropout_4 (Dropout)         (None, 256)               0         \n",
      "                                                                 \n",
      " dense_2 (Dense)             (None, 128)               32896     \n",
      "                                                                 \n",
      " dropout_5 (Dropout)         (None, 128)               0         \n",
      "                                                                 \n",
      " dense_3 (Dense)             (None, 8)                 1032      \n",
      "                                                                 \n",
      "=================================================================\n",
      "Total params: 3910364 (14.92 MB)\n",
      "Trainable params: 867464 (3.31 MB)\n",
      "Non-trainable params: 3042900 (11.61 MB)\n",
      "_________________________________________________________________\n"
     ]
    }
   ],
   "source": [
    "lstm_model.summary()"
   ]
  },
  {
   "cell_type": "markdown",
   "metadata": {},
   "source": [
    "## Evaluasi"
   ]
  },
  {
   "cell_type": "code",
   "execution_count": 64,
   "metadata": {},
   "outputs": [],
   "source": [
    "import numpy as np\n",
    "from sklearn.metrics import classification_report, confusion_matrix, accuracy_score\n",
    "from sklearn.metrics import mean_squared_error, mean_absolute_error\n",
    "import matplotlib.pyplot as plt\n",
    "import seaborn as sns"
   ]
  },
  {
   "cell_type": "code",
   "execution_count": 65,
   "metadata": {},
   "outputs": [
    {
     "name": "stdout",
     "output_type": "stream",
     "text": [
      "743/743 [==============================] - 45s 59ms/step\n"
     ]
    }
   ],
   "source": [
    "# Prediksi kelas (dalam bentuk indeks)\n",
    "y_pred_probs = lstm_model.predict(padded_sequences)  # prediksi probabilitas\n",
    "y_pred = np.argmax(y_pred_probs, axis=1)        # ambil indeks probabilitas tertinggi\n",
    "\n",
    "# Konversi label asli (jika sebelumnya one-hot encoded)\n",
    "y_true = encoded_labels\n"
   ]
  },
  {
   "cell_type": "code",
   "execution_count": 66,
   "metadata": {},
   "outputs": [
    {
     "name": "stdout",
     "output_type": "stream",
     "text": [
      "Accuracy: 0.8439\n",
      "MSE (Mean Squared Error): 1.4444\n",
      "RMSE (Root Mean Squared Error): 1.2018\n",
      "MAE (Mean Absolute Error): 0.3980\n",
      "\n",
      "Classification Report:\n",
      "                         precision    recall  f1-score   support\n",
      "\n",
      "              Demografi       0.92      0.96      0.94      2969\n",
      "                Ekonomi       0.90      0.85      0.87      2969\n",
      "               Geografi       0.97      1.00      0.98      2969\n",
      "               Ideologi       0.82      0.80      0.81      2969\n",
      "Pertahanan dan Keamanan       0.90      0.89      0.89      2969\n",
      "                Politik       0.59      0.50      0.54      2969\n",
      "          Sosial Budaya       0.76      0.82      0.78      2969\n",
      "       Sumber Daya Alam       0.87      0.93      0.90      2969\n",
      "\n",
      "               accuracy                           0.84     23752\n",
      "              macro avg       0.84      0.84      0.84     23752\n",
      "           weighted avg       0.84      0.84      0.84     23752\n",
      "\n"
     ]
    }
   ],
   "source": [
    "# Akurasi keseluruhan\n",
    "acc = accuracy_score(y_true, y_pred)\n",
    "print(f\"Accuracy: {acc:.4f}\")\n",
    "\n",
    "# Mean Squared Error (MSE)\n",
    "mse = mean_squared_error(y_true, y_pred)\n",
    "print(f\"MSE (Mean Squared Error): {mse:.4f}\")\n",
    "\n",
    "# Root Mean Squared Error (RMSE)\n",
    "rmse = np.sqrt(mse)\n",
    "print(f\"RMSE (Root Mean Squared Error): {rmse:.4f}\")\n",
    "\n",
    "# Mean Absolute Error (MAE)\n",
    "mae = mean_absolute_error(y_true, y_pred)\n",
    "print(f\"MAE (Mean Absolute Error): {mae:.4f}\")\n",
    "\n",
    "# Classification report: precision, recall, f1-score per kelas\n",
    "target_names = le.classes_  # nama label asli\n",
    "print(\"\\nClassification Report:\")\n",
    "print(classification_report(y_true, y_pred, target_names=target_names))\n"
   ]
  },
  {
   "cell_type": "code",
   "execution_count": 67,
   "metadata": {},
   "outputs": [
    {
     "data": {
      "image/png": "[encoded data removed]",
      "text/plain": [
       "<Figure size 1000x800 with 2 Axes>"
      ]
     },
     "metadata": {},
     "output_type": "display_data"
    }
   ],
   "source": [
    "# Confusion matrix\n",
    "cm = confusion_matrix(y_true, y_pred)\n",
    "\n",
    "# Plot confusion matrix\n",
    "plt.figure(figsize=(10, 8))\n",
    "sns.heatmap(cm, annot=True, fmt='d', cmap='Blues',\n",
    "            xticklabels=target_names, yticklabels=target_names)\n",
    "plt.xlabel('Predicted Label')\n",
    "plt.ylabel('True Label')\n",
    "plt.title('Confusion Matrix')\n",
    "plt.show()\n"
   ]
  },
  {
   "cell_type": "markdown",
   "metadata": {},
   "source": [
    "# TESTING"
   ]
  },
  {
   "cell_type": "code",
   "execution_count": 52,
   "metadata": {},
   "outputs": [
    {
     "ename": "AttributeError",
     "evalue": "Can't get attribute 'clean_text' on <module '__main__'>",
     "output_type": "error",
     "traceback": [
      "\u001b[1;31m---------------------------------------------------------------------------\u001b[0m",
      "\u001b[1;31mAttributeError\u001b[0m                            Traceback (most recent call last)",
      "Cell \u001b[1;32mIn[52], line 7\u001b[0m\n\u001b[0;32m      5\u001b[0m \u001b[38;5;66;03m# Load objek preprocessing\u001b[39;00m\n\u001b[0;32m      6\u001b[0m \u001b[38;5;28;01mwith\u001b[39;00m \u001b[38;5;28mopen\u001b[39m(\u001b[38;5;124m\"\u001b[39m\u001b[38;5;124mtext_processing.pkl\u001b[39m\u001b[38;5;124m\"\u001b[39m, \u001b[38;5;124m\"\u001b[39m\u001b[38;5;124mrb\u001b[39m\u001b[38;5;124m\"\u001b[39m) \u001b[38;5;28;01mas\u001b[39;00m f:\n\u001b[1;32m----> 7\u001b[0m     loaded_objects \u001b[38;5;241m=\u001b[39m \u001b[43mpickle\u001b[49m\u001b[38;5;241;43m.\u001b[39;49m\u001b[43mload\u001b[49m\u001b[43m(\u001b[49m\u001b[43mf\u001b[49m\u001b[43m)\u001b[49m\n\u001b[0;32m      9\u001b[0m clean_text \u001b[38;5;241m=\u001b[39m loaded_objects[\u001b[38;5;124m\"\u001b[39m\u001b[38;5;124mclean_text\u001b[39m\u001b[38;5;124m\"\u001b[39m]\n\u001b[0;32m     10\u001b[0m remove_noise_words \u001b[38;5;241m=\u001b[39m loaded_objects[\u001b[38;5;124m\"\u001b[39m\u001b[38;5;124mremove_noise_words\u001b[39m\u001b[38;5;124m\"\u001b[39m]\n",
      "\u001b[1;31mAttributeError\u001b[0m: Can't get attribute 'clean_text' on <module '__main__'>"
     ]
    }
   ],
   "source": [
    "# Load dan Preprocess Data Test\n",
    "test_df = pd.read_csv(\"data/dataset_unlabeled_penyisihan_bdc_2024.csv\", delimiter=\";\")\n",
    "\n",
    "\n",
    "# Load objek preprocessing\n",
    "with open(\"text_processing.pkl\", \"rb\") as f:\n",
    "    loaded_objects = pickle.load(f)\n",
    "\n",
    "clean_text = loaded_objects[\"clean_text\"]\n",
    "remove_noise_words = loaded_objects[\"remove_noise_words\"]\n",
    "stemmer = loaded_objects[\"stemmer\"]\n",
    "stopwords = loaded_objects[\"stopwords\"]\n",
    "\n",
    "\n",
    "# Terapkan preprocessing\n",
    "test_df['clean_text'] = test_df['Text'].apply(clean_text)\n",
    "test_df['clean_text'] = test_df['clean_text'].apply(remove_noise_words)\n",
    "\n",
    "# Konversi teks ke sequence\n",
    "test_sequences = tokenizer.texts_to_sequences(test_df['clean_text'])\n",
    "test_padded = pad_sequences(test_sequences, maxlen=MAX_LEN, padding='post', truncating='post')\n",
    "\n",
    "# Prediksi label\n",
    "lstm_predictions = np.argmax(lstm_model.predict(test_padded), axis=1)\n",
    "test_df['lstm_predicted_label'] = le.inverse_transform(lstm_predictions)\n",
    "\n",
    "# Simpan hasil\n",
    "# test_df.to_csv(\"predicted_labels_unlabeled.csv\", index=False)\n",
    "\n",
    "# print(\"✅ Preprocessing dan prediksi selesai. Hasil disimpan di predicted_labels_unlabeled.csv\")\n",
    "\n",
    "\n",
    "# print(\"✅ Prediksi selesai. Hasil disimpan di predicted_labels_test.csv\")\n",
    "\n",
    "\n",
    "# Calculate Evaluation Metrics\n",
    "y_true = encoded_labels[:len(test_df)]  # gunakan label sebenarnya untuk data test\n",
    "\n",
    "print(\"LSTM Model Evaluation:\")\n",
    "print(classification_report(y_true, lstm_predictions))\n",
    "print(\"MAE:\", mean_absolute_error(y_true, lstm_predictions))\n",
    "print(\"MSE:\", mean_squared_error(y_true, lstm_predictions))\n",
    "print(\"RMSE:\", np.sqrt(mean_squared_error(y_true, lstm_predictions)))\n",
    "\n",
    "\n",
    "# Save predictions\n",
    "# unlabeled_df.to_csv(\"predicted_labels.csv\", index=False)"
   ]
  },
  {
   "cell_type": "code",
   "execution_count": null,
   "metadata": {},
   "outputs": [],
   "source": []
  }
 ],
 "metadata": {
  "kaggle": {
   "accelerator": "nvidiaTeslaT4",
   "dataSources": [
    {
     "datasetId": 8006273,
     "sourceId": 12669338,
     "sourceType": "datasetVersion"
    }
   ],
   "dockerImageVersionId": 31090,
   "isGpuEnabled": true,
   "isInternetEnabled": true,
   "language": "python",
   "sourceType": "notebook"
  },
  "kernelspec": {
   "display_name": "Python 3",
   "language": "python",
   "name": "python3"
  },
  "language_info": {
   "codemirror_mode": {
    "name": "ipython",
    "version": 3
   },
   "file_extension": ".py",
   "mimetype": "text/x-python",
   "name": "python",
   "nbconvert_exporter": "python",
   "pygments_lexer": "ipython3",
   "version": "3.9.12"
  }
 },
 "nbformat": 4,
 "nbformat_minor": 4
}
