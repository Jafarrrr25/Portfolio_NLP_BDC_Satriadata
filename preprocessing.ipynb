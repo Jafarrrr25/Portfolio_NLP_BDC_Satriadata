{
 "cells": [
  {
   "cell_type": "code",
   "execution_count": 1,
   "id": "6f2b0436",
   "metadata": {},
   "outputs": [
    {
     "name": "stderr",
     "output_type": "stream",
     "text": [
      "c:\\Users\\fajar\\AppData\\Local\\Programs\\Python\\Python39\\lib\\site-packages\\tqdm\\auto.py:21: TqdmWarning: IProgress not found. Please update jupyter and ipywidgets. See https://ipywidgets.readthedocs.io/en/stable/user_install.html\n",
      "  from .autonotebook import tqdm as notebook_tqdm\n"
     ]
    }
   ],
   "source": [
    "import re\n",
    "import os\n",
    "import pandas as pd\n",
    "from transformers import AutoTokenizer, AutoModelForSeq2SeqLM, MarianMTModel, MarianTokenizer\n",
    "from tqdm import tqdm"
   ]
  },
  {
   "cell_type": "code",
   "execution_count": 30,
   "id": "186b7ac6",
   "metadata": {},
   "outputs": [],
   "source": [
    "# data = pd.read_csv(\"data/dataset_penyisihan_bdc_2024.csv\", delimiter=\";\")\n",
    "data = pd.read_csv(\"augmentedDataset1.csv\", delimiter=\",\")"
   ]
  },
  {
   "cell_type": "code",
   "execution_count": 31,
   "id": "b1d6b751",
   "metadata": {},
   "outputs": [
    {
     "name": "stdout",
     "output_type": "stream",
     "text": [
      "<class 'pandas.core.frame.DataFrame'>\n",
      "RangeIndex: 23677 entries, 0 to 23676\n",
      "Data columns (total 3 columns):\n",
      " #   Column      Non-Null Count  Dtype \n",
      "---  ------      --------------  ----- \n",
      " 0   text        23677 non-null  object\n",
      " 1   label       23677 non-null  object\n",
      " 2   clean_text  23677 non-null  object\n",
      "dtypes: object(3)\n",
      "memory usage: 555.1+ KB\n"
     ]
    }
   ],
   "source": [
    "data.info()"
   ]
  },
  {
   "cell_type": "code",
   "execution_count": 32,
   "id": "ab0f22c7",
   "metadata": {},
   "outputs": [
    {
     "data": {
      "text/html": [
       "<div>\n",
       "<style scoped>\n",
       "    .dataframe tbody tr th:only-of-type {\n",
       "        vertical-align: middle;\n",
       "    }\n",
       "\n",
       "    .dataframe tbody tr th {\n",
       "        vertical-align: top;\n",
       "    }\n",
       "\n",
       "    .dataframe thead th {\n",
       "        text-align: right;\n",
       "    }\n",
       "</style>\n",
       "<table border=\"1\" class=\"dataframe\">\n",
       "  <thead>\n",
       "    <tr style=\"text-align: right;\">\n",
       "      <th></th>\n",
       "      <th>text</th>\n",
       "      <th>label</th>\n",
       "      <th>clean_text</th>\n",
       "    </tr>\n",
       "  </thead>\n",
       "  <tbody>\n",
       "    <tr>\n",
       "      <th>0</th>\n",
       "      <td>Kunjungan Prabowo ini untuk meresmikan dan menyerahkan proyek bantuan air bersih di lima titik. #IndonesiaSentris #IndonesiaHijau #02Melanjutkan #AnakMudaIndonesiaEmas Prabowo Subianto</td>\n",
       "      <td>Sumber Daya Alam</td>\n",
       "      <td>kunjungan prabowo ini untuk meresmikan dan menyerahkan proyek bantuan air bersih di lima titik. prabowo subianto</td>\n",
       "    </tr>\n",
       "    <tr>\n",
       "      <th>1</th>\n",
       "      <td>RT Anies dapat tepuk tangan meriah saat jadi Rektor mewajibkan mata kuliah anti-korupsi untuk memutus mata rantai korupsi.. #AminMiskinkanKoruptor https://t.co/hgXsoQGaEa [RE ekowboy2]</td>\n",
       "      <td>Politik</td>\n",
       "      <td>anies dapat tepuk tangan meriah saat jadi rektor mewajibkan mata kuliah anti-korupsi untuk memutus mata rantai korupsi..</td>\n",
       "    </tr>\n",
       "    <tr>\n",
       "      <th>2</th>\n",
       "      <td>@CIqXqwGAT04tMtx4OCATxjoVq7vv/Y8HeYaIOgMFg8Y= emng bener sih, pendukung 01 ada yg goblok, begitu jg dg pendukung 02.. hnya sj menurut pak Ridwan Kamil skemanya terbalik, klo 01 MAYORITAS PENDIDIKAN MENENGAH ATAS (artinya ada jg pendidikan rendah yg milih</td>\n",
       "      <td>Demografi</td>\n",
       "      <td>emng bener sih, pendukung 01 ada yg goblok, begitu jg dg pendukung 02.. hnya sj menurut pak ridwan kamil skemanya terbalik, klo 01 mayoritas pendidikan menengah atas (artinya ada jg pendidikan rendah yg milih</td>\n",
       "    </tr>\n",
       "    <tr>\n",
       "      <th>3</th>\n",
       "      <td>RT @L3R8XFBw3WGbxRPSj0/0hHZTbqVGX7qtfwRg9zmhK7Q= Sewaktu anies bersikap kritis ke kinerja pak prabowo dianggap engga sopan karena dianggap kurang menghormati orang tua, giliran skrg gibran yg tengil dan sok kritis malah dianggap kritis dan keras. Apakah ini tidak standar ganda? Ã°ÂŸÂ¤Â­ [RE coldthem]</td>\n",
       "      <td>Politik</td>\n",
       "      <td>sewaktu anies bersikap kritis ke kinerja pak prabowo dianggap engga sopan karena dianggap kurang menghormati orang tua, giliran skrg gibran yg tengil dan sok kritis malah dianggap kritis dan keras. apakah ini tidak standar ganda?</td>\n",
       "    </tr>\n",
       "    <tr>\n",
       "      <th>4</th>\n",
       "      <td>Anies Baswedan Harap ASN termasuk TNI dan Polri Pegang Sumpahnya dalam Pemilu https://t.co/QRQZ3wI8YP</td>\n",
       "      <td>Politik</td>\n",
       "      <td>anies baswedan harap asn termasuk tni dan polri pegang sumpahnya dalam pemilu</td>\n",
       "    </tr>\n",
       "  </tbody>\n",
       "</table>\n",
       "</div>"
      ],
      "text/plain": [
       "                                                                                                                                                                                                                                                                                                            text  \\\n",
       "0                                                                                                                       Kunjungan Prabowo ini untuk meresmikan dan menyerahkan proyek bantuan air bersih di lima titik. #IndonesiaSentris #IndonesiaHijau #02Melanjutkan #AnakMudaIndonesiaEmas Prabowo Subianto   \n",
       "1                                                                                                                       RT Anies dapat tepuk tangan meriah saat jadi Rektor mewajibkan mata kuliah anti-korupsi untuk memutus mata rantai korupsi.. #AminMiskinkanKoruptor https://t.co/hgXsoQGaEa [RE ekowboy2]   \n",
       "2                                                 @CIqXqwGAT04tMtx4OCATxjoVq7vv/Y8HeYaIOgMFg8Y= emng bener sih, pendukung 01 ada yg goblok, begitu jg dg pendukung 02.. hnya sj menurut pak Ridwan Kamil skemanya terbalik, klo 01 MAYORITAS PENDIDIKAN MENENGAH ATAS (artinya ada jg pendidikan rendah yg milih   \n",
       "3  RT @L3R8XFBw3WGbxRPSj0/0hHZTbqVGX7qtfwRg9zmhK7Q= Sewaktu anies bersikap kritis ke kinerja pak prabowo dianggap engga sopan karena dianggap kurang menghormati orang tua, giliran skrg gibran yg tengil dan sok kritis malah dianggap kritis dan keras. Apakah ini tidak standar ganda? Ã°ÂŸÂ¤Â­ [RE coldthem]   \n",
       "4                                                                                                                                                                                                          Anies Baswedan Harap ASN termasuk TNI dan Polri Pegang Sumpahnya dalam Pemilu https://t.co/QRQZ3wI8YP   \n",
       "\n",
       "              label  \\\n",
       "0  Sumber Daya Alam   \n",
       "1           Politik   \n",
       "2         Demografi   \n",
       "3           Politik   \n",
       "4           Politik   \n",
       "\n",
       "                                                                                                                                                                                                                              clean_text  \n",
       "0                                                                                                                       kunjungan prabowo ini untuk meresmikan dan menyerahkan proyek bantuan air bersih di lima titik. prabowo subianto  \n",
       "1                                                                                                               anies dapat tepuk tangan meriah saat jadi rektor mewajibkan mata kuliah anti-korupsi untuk memutus mata rantai korupsi..  \n",
       "2                       emng bener sih, pendukung 01 ada yg goblok, begitu jg dg pendukung 02.. hnya sj menurut pak ridwan kamil skemanya terbalik, klo 01 mayoritas pendidikan menengah atas (artinya ada jg pendidikan rendah yg milih  \n",
       "3  sewaktu anies bersikap kritis ke kinerja pak prabowo dianggap engga sopan karena dianggap kurang menghormati orang tua, giliran skrg gibran yg tengil dan sok kritis malah dianggap kritis dan keras. apakah ini tidak standar ganda?  \n",
       "4                                                                                                                                                          anies baswedan harap asn termasuk tni dan polri pegang sumpahnya dalam pemilu  "
      ]
     },
     "execution_count": 32,
     "metadata": {},
     "output_type": "execute_result"
    }
   ],
   "source": [
    "data.head()"
   ]
  },
  {
   "cell_type": "code",
   "execution_count": 33,
   "id": "264f9bfa",
   "metadata": {},
   "outputs": [
    {
     "name": "stdout",
     "output_type": "stream",
     "text": [
      "['Sumber Daya Alam' 'Politik' 'Demografi' 'Pertahanan dan Keamanan'\n",
      " 'Ideologi' 'Ekonomi' 'Sosial Budaya' 'Geografi']\n",
      "Politik                    2969\n",
      "Geografi                   2969\n",
      "Pertahanan dan Keamanan    2966\n",
      "Ideologi                   2964\n",
      "Ekonomi                    2956\n",
      "Sosial Budaya              2956\n",
      "Demografi                  2954\n",
      "Sumber Daya Alam           2943\n",
      "Name: label, dtype: int64\n"
     ]
    }
   ],
   "source": [
    "print(data['label'].unique())\n",
    "print(data.label.value_counts())"
   ]
  },
  {
   "cell_type": "markdown",
   "id": "798125fd",
   "metadata": {},
   "source": [
    "## Cleaning Data"
   ]
  },
  {
   "cell_type": "code",
   "execution_count": 34,
   "id": "4ed4bc5a",
   "metadata": {},
   "outputs": [],
   "source": [
    "import unicodedata\n",
    "import string\n",
    "# Fungsi membersihkan teks tanpa stemming/lemmatisasi\n",
    "def clean_text(text):\n",
    "    text = str(text).lower()\n",
    "\n",
    "    # 1. Hapus RT, via, cc di awal\n",
    "    text = re.sub(r'^(RT|rt|via|cc)\\b', '', text).strip()\n",
    "\n",
    "    # 2. Hapus mention @username\n",
    "    text = re.sub(r'@\\w+', '', text)\n",
    "\n",
    "    # 3. Hapus URL\n",
    "    text = re.sub(r'http\\S+', '', text)\n",
    "\n",
    "    # 4. Hapus hashtag\n",
    "    text = re.sub(r'#\\S+', '', text)\n",
    "\n",
    "    # 5. Hapus bracket [RE ...] atau yang sejenis\n",
    "    text = re.sub(r'\\[.*?\\]', '', text)\n",
    "\n",
    "    # 6. Hapus encoding random (+ECNv...= dsb)\n",
    "    text = re.sub(r'\\S*=\\S*', '', text)\n",
    "\n",
    "    # 7. Hapus karakter non-ASCII dan simbol aneh\n",
    "    text = re.sub(r'[^\\x00-\\x7F]+', ' ', text)\n",
    "\n",
    "    # 8. Normalisasi unicode (hilangkan diakritik tak perlu)\n",
    "    text = unicodedata.normalize('NFKD', text).encode('ascii', 'ignore').decode('utf-8', 'ignore')\n",
    "\n",
    "    # 9. Hapus tanda baca\n",
    "    text = re.sub(f\"[{re.escape(string.punctuation)}]\", \"\", text)\n",
    "\n",
    "    # 10. Ganti & menjadi \"dan\"\n",
    "    text = text.replace(\"&\", \" dan \")\n",
    "\n",
    "    # 11. Hapus spasi berlebih\n",
    "    text = re.sub(r'\\s+', ' ', text).strip()\n",
    "\n",
    "    return text\n",
    "\n",
    "# Terapkan ke kolom data\n",
    "data['clean_text'] = data['clean_text'].apply(clean_text)\n"
   ]
  },
  {
   "cell_type": "code",
   "execution_count": 35,
   "id": "5e6fd32f",
   "metadata": {},
   "outputs": [],
   "source": [
    "# Hapus baris jika kolom 'clean_text' kosong atau hanya berisi spasi\n",
    "data = data[data['clean_text'].astype(str).str.strip() != \"\"]"
   ]
  },
  {
   "cell_type": "code",
   "execution_count": null,
   "id": "217398ec",
   "metadata": {},
   "outputs": [],
   "source": [
    "from Sastrawi.Stemmer.StemmerFactory import StemmerFactory\n",
    "\n",
    "factory = StemmerFactory()\n",
    "stemmer = factory.create_stemmer()\n",
    "\n",
    "def stem_text(text):\n",
    "    return stemmer.stem(text)\n",
    "\n",
    "# 2. Terapkan stemming\n",
    "data['stemmed_text'] = data['clean_text'].apply(stem_text)"
   ]
  },
  {
   "cell_type": "code",
   "execution_count": null,
   "id": "20057f2e",
   "metadata": {},
   "outputs": [
    {
     "name": "stdout",
     "output_type": "stream",
     "text": [
      "<class 'pandas.core.frame.DataFrame'>\n",
      "Int64Index: 4993 entries, 0 to 4999\n",
      "Data columns (total 3 columns):\n",
      " #   Column      Non-Null Count  Dtype \n",
      "---  ------      --------------  ----- \n",
      " 0   text        4993 non-null   object\n",
      " 1   label       4993 non-null   object\n",
      " 2   clean_text  4993 non-null   object\n",
      "dtypes: object(3)\n",
      "memory usage: 156.0+ KB\n"
     ]
    }
   ],
   "source": [
    "data.info()"
   ]
  },
  {
   "cell_type": "code",
   "execution_count": 37,
   "id": "0abc0642",
   "metadata": {},
   "outputs": [],
   "source": [
    "data.to_csv(\"data/prepData3.csv\", index=False)"
   ]
  }
 ],
 "metadata": {
  "kernelspec": {
   "display_name": "Python 3",
   "language": "python",
   "name": "python3"
  },
  "language_info": {
   "codemirror_mode": {
    "name": "ipython",
    "version": 3
   },
   "file_extension": ".py",
   "mimetype": "text/x-python",
   "name": "python",
   "nbconvert_exporter": "python",
   "pygments_lexer": "ipython3",
   "version": "3.9.12"
  }
 },
 "nbformat": 4,
 "nbformat_minor": 5
}
