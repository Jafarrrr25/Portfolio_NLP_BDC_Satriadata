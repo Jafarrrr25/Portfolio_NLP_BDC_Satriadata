{
 "cells": [
  {
   "cell_type": "code",
   "execution_count": 1,
   "id": "6c80df78",
   "metadata": {},
   "outputs": [],
   "source": [
    "# ! pip install sastrawi"
   ]
  },
  {
   "cell_type": "code",
   "execution_count": 2,
   "id": "6f2b0436",
   "metadata": {},
   "outputs": [
    {
     "name": "stderr",
     "output_type": "stream",
     "text": [
      "c:\\Users\\fajar\\AppData\\Local\\Programs\\Python\\Python39\\lib\\site-packages\\tqdm\\auto.py:21: TqdmWarning: IProgress not found. Please update jupyter and ipywidgets. See https://ipywidgets.readthedocs.io/en/stable/user_install.html\n",
      "  from .autonotebook import tqdm as notebook_tqdm\n"
     ]
    }
   ],
   "source": [
    "import re\n",
    "import nlp_id\n",
    "from nlp_id.lemmatizer import Lemmatizer\n",
    "from nlp_id.stopword import StopWord\n",
    "import pandas as pd\n",
    "from transformers import AutoTokenizer, AutoModelForSeq2SeqLM, MarianMTModel, MarianTokenizer\n",
    "from tqdm import tqdm"
   ]
  },
  {
   "cell_type": "code",
   "execution_count": 3,
   "id": "186b7ac6",
   "metadata": {},
   "outputs": [],
   "source": [
    "data = pd.read_csv(\"data/dataset_penyisihan_bdc_2024.csv\", delimiter=\";\")"
   ]
  },
  {
   "cell_type": "code",
   "execution_count": 4,
   "id": "b1d6b751",
   "metadata": {},
   "outputs": [
    {
     "name": "stdout",
     "output_type": "stream",
     "text": [
      "<class 'pandas.core.frame.DataFrame'>\n",
      "RangeIndex: 5000 entries, 0 to 4999\n",
      "Data columns (total 2 columns):\n",
      " #   Column  Non-Null Count  Dtype \n",
      "---  ------  --------------  ----- \n",
      " 0   text    5000 non-null   object\n",
      " 1   label   5000 non-null   object\n",
      "dtypes: object(2)\n",
      "memory usage: 78.2+ KB\n"
     ]
    }
   ],
   "source": [
    "data.info()"
   ]
  },
  {
   "cell_type": "code",
   "execution_count": 5,
   "id": "ab0f22c7",
   "metadata": {},
   "outputs": [
    {
     "data": {
      "text/html": [
       "<div>\n",
       "<style scoped>\n",
       "    .dataframe tbody tr th:only-of-type {\n",
       "        vertical-align: middle;\n",
       "    }\n",
       "\n",
       "    .dataframe tbody tr th {\n",
       "        vertical-align: top;\n",
       "    }\n",
       "\n",
       "    .dataframe thead th {\n",
       "        text-align: right;\n",
       "    }\n",
       "</style>\n",
       "<table border=\"1\" class=\"dataframe\">\n",
       "  <thead>\n",
       "    <tr style=\"text-align: right;\">\n",
       "      <th></th>\n",
       "      <th>text</th>\n",
       "      <th>label</th>\n",
       "    </tr>\n",
       "  </thead>\n",
       "  <tbody>\n",
       "    <tr>\n",
       "      <th>0</th>\n",
       "      <td>Kunjungan Prabowo ini untuk meresmikan dan men...</td>\n",
       "      <td>Sumber Daya Alam</td>\n",
       "    </tr>\n",
       "    <tr>\n",
       "      <th>1</th>\n",
       "      <td>RT Anies dapat tepuk tangan meriah saat jadi R...</td>\n",
       "      <td>Politik</td>\n",
       "    </tr>\n",
       "    <tr>\n",
       "      <th>2</th>\n",
       "      <td>@CIqXqwGAT04tMtx4OCATxjoVq7vv/Y8HeYaIOgMFg8Y= ...</td>\n",
       "      <td>Demografi</td>\n",
       "    </tr>\n",
       "    <tr>\n",
       "      <th>3</th>\n",
       "      <td>RT @L3R8XFBw3WGbxRPSj0/0hHZTbqVGX7qtfwRg9zmhK7...</td>\n",
       "      <td>Politik</td>\n",
       "    </tr>\n",
       "    <tr>\n",
       "      <th>4</th>\n",
       "      <td>Anies Baswedan Harap ASN termasuk TNI dan Polr...</td>\n",
       "      <td>Politik</td>\n",
       "    </tr>\n",
       "  </tbody>\n",
       "</table>\n",
       "</div>"
      ],
      "text/plain": [
       "                                                text             label\n",
       "0  Kunjungan Prabowo ini untuk meresmikan dan men...  Sumber Daya Alam\n",
       "1  RT Anies dapat tepuk tangan meriah saat jadi R...           Politik\n",
       "2  @CIqXqwGAT04tMtx4OCATxjoVq7vv/Y8HeYaIOgMFg8Y= ...         Demografi\n",
       "3  RT @L3R8XFBw3WGbxRPSj0/0hHZTbqVGX7qtfwRg9zmhK7...           Politik\n",
       "4  Anies Baswedan Harap ASN termasuk TNI dan Polr...           Politik"
      ]
     },
     "execution_count": 5,
     "metadata": {},
     "output_type": "execute_result"
    }
   ],
   "source": [
    "data.head()"
   ]
  },
  {
   "cell_type": "code",
   "execution_count": 6,
   "id": "264f9bfa",
   "metadata": {},
   "outputs": [
    {
     "name": "stdout",
     "output_type": "stream",
     "text": [
      "['Sumber Daya Alam' 'Politik' 'Demografi' 'Pertahanan dan Keamanan'\n",
      " 'Ideologi' 'Ekonomi' 'Sosial Budaya' 'Geografi']\n",
      "Politik                    2972\n",
      "Sosial Budaya               587\n",
      "Pertahanan dan Keamanan     400\n",
      "Ideologi                    400\n",
      "Ekonomi                     367\n",
      "Sumber Daya Alam            192\n",
      "Demografi                    62\n",
      "Geografi                     20\n",
      "Name: label, dtype: int64\n"
     ]
    }
   ],
   "source": [
    "print(data['label'].unique())\n",
    "print(data.label.value_counts())"
   ]
  },
  {
   "cell_type": "markdown",
   "id": "798125fd",
   "metadata": {},
   "source": [
    "## Cleaning Data"
   ]
  },
  {
   "cell_type": "code",
   "execution_count": 7,
   "id": "4ed4bc5a",
   "metadata": {},
   "outputs": [],
   "source": [
    "# Inisialisasi stopword dan lemmatizer\n",
    "stopword = StopWord()\n",
    "lemmatizer = Lemmatizer()\n",
    "\n",
    "# Fungsi membersihkan teks\n",
    "def clean_text(text):\n",
    "    text = text.lower()  # lowercase\n",
    "    text = re.sub(r\"http\\S+|www.\\S+\", \"\", text)   # URL\n",
    "    text = re.sub(r\"@\\w+\", \"\", text)              # Mention\n",
    "    text = re.sub(r\"#\\w+\", \"\", text)              # Hashtag\n",
    "    text = re.sub(r\"\\brt\\b\", \"\", text)            # Retweet\n",
    "    text = re.sub(r\"\\d+\", \"\", text)               # Angka\n",
    "    text = re.sub(r\"[^\\w\\s]\", \"\", text)           # Tanda baca\n",
    "    \n",
    "    words = text.split()\n",
    "    \n",
    "    # Hapus stopword dan lakukan stemming/lemmatisasi\n",
    "    clean_words = [\n",
    "        lemmatizer.lemmatize(word) \n",
    "        for word in words \n",
    "        if word not in stopword.get_stopword()\n",
    "    ]\n",
    "    \n",
    "    return ' '.join(clean_words)\n",
    "\n",
    "data['clean_text'] = data['text'].apply(clean_text)"
   ]
  },
  {
   "cell_type": "code",
   "execution_count": 8,
   "id": "35764861",
   "metadata": {},
   "outputs": [],
   "source": [
    "# Fungsi deteksi kata noise\n",
    "def is_noise_word(word):\n",
    "    if len(word) > 20:\n",
    "        return True\n",
    "    if re.search(r'[bcdfghjklmnpqrstvwxyz]{5,}', word):\n",
    "        return True\n",
    "    num_vowel = len(re.findall(r'[aeiou]', word))\n",
    "    if len(word) > 8 and (num_vowel / len(word)) < 0.2:\n",
    "        return True\n",
    "    if re.search(r'[a-zA-Z]', word) and re.search(r'\\d', word):\n",
    "        return True\n",
    "    return False\n",
    "\n",
    "# Fungsi menghapus kata noise\n",
    "def remove_noise_words(text):\n",
    "    words = text.split()\n",
    "    clean_words = [\n",
    "        word for word in words\n",
    "        if not is_noise_word(word) and not word.isdigit()\n",
    "    ]\n",
    "    return ' '.join(clean_words)\n",
    "\n",
    "data['clean_text'] = data['clean_text'].apply(remove_noise_words)"
   ]
  },
  {
   "cell_type": "markdown",
   "id": "d21354a2",
   "metadata": {},
   "source": [
    "## Augmentasi Data"
   ]
  },
  {
   "cell_type": "code",
   "execution_count": 9,
   "id": "16fc62e0",
   "metadata": {},
   "outputs": [
    {
     "name": "stderr",
     "output_type": "stream",
     "text": [
      "c:\\Users\\fajar\\AppData\\Local\\Programs\\Python\\Python39\\lib\\site-packages\\transformers\\models\\marian\\tokenization_marian.py:175: UserWarning: Recommended: pip install sacremoses.\n",
      "  warnings.warn(\"Recommended: pip install sacremoses.\")\n"
     ]
    }
   ],
   "source": [
    "tokenizer_para = AutoTokenizer.from_pretrained(\"cahya/bert2bert-indonesian-summarization\")\n",
    "model_para = AutoModelForSeq2SeqLM.from_pretrained(\"cahya/bert2bert-indonesian-summarization\")\n",
    "\n",
    "# Back translation models\n",
    "model_id_en = MarianMTModel.from_pretrained(\"Helsinki-NLP/opus-mt-id-en\")\n",
    "tokenizer_id_en = MarianTokenizer.from_pretrained(\"Helsinki-NLP/opus-mt-id-en\")\n",
    "model_en_id = MarianMTModel.from_pretrained(\"Helsinki-NLP/opus-mt-en-id\")\n",
    "tokenizer_en_id = MarianTokenizer.from_pretrained(\"Helsinki-NLP/opus-mt-en-id\")"
   ]
  },
  {
   "cell_type": "code",
   "execution_count": 10,
   "id": "004ee29d",
   "metadata": {},
   "outputs": [],
   "source": [
    "def paraphrase_text(text):\n",
    "    inputs = tokenizer_para(\n",
    "        f\"parafrase: {text}\", \n",
    "        return_tensors=\"pt\", \n",
    "        max_length=256, \n",
    "        truncation=True\n",
    "    )\n",
    "    outputs = model_para.generate(\n",
    "        **inputs, \n",
    "        max_length=256, \n",
    "        num_return_sequences=1, \n",
    "        do_sample=True, \n",
    "        top_k=50\n",
    "    )\n",
    "    return tokenizer_para.decode(outputs[0], skip_special_tokens=True)\n",
    "\n",
    "def back_translate(text):\n",
    "    encoded = tokenizer_id_en(text, return_tensors=\"pt\", padding=True)\n",
    "    translated_en = model_id_en.generate(**encoded)\n",
    "    text_en = tokenizer_id_en.decode(translated_en[0], skip_special_tokens=True)\n",
    "\n",
    "    encoded_en = tokenizer_en_id(text_en, return_tensors=\"pt\", padding=True)\n",
    "    translated_id = model_en_id.generate(**encoded_en)\n",
    "    return tokenizer_en_id.decode(translated_id[0], skip_special_tokens=True)"
   ]
  },
  {
   "cell_type": "code",
   "execution_count": null,
   "id": "0508b3bc",
   "metadata": {},
   "outputs": [
    {
     "name": "stdout",
     "output_type": "stream",
     "text": [
      "Augmentasi kelas Sosial Budaya -> 2385 data\n"
     ]
    },
    {
     "name": "stderr",
     "output_type": "stream",
     "text": [
      "Augmenting Sosial Budaya:   0%|          | 0/2385 [00:00<?, ?it/s]"
     ]
    },
    {
     "name": "stderr",
     "output_type": "stream",
     "text": [
      "Augmenting Sosial Budaya:   2%|▏         | 50/2385 [03:26<2:27:21,  3.79s/it]"
     ]
    }
   ],
   "source": [
    "majority_class = data['label'].value_counts().idxmax()\n",
    "target_count = data['label'].value_counts()[majority_class]\n",
    "augmented_rows = []\n",
    "\n",
    "for label, count in data['label'].value_counts().items():\n",
    "    if label == majority_class:\n",
    "        continue\n",
    "    \n",
    "    subset = data[data['label'] == label]\n",
    "    needed = target_count - count\n",
    "    print(f\"Augmentasi kelas {label} -> {needed} data\")\n",
    "    \n",
    "    repeat_df = subset.sample(needed, replace=True).reset_index(drop=True)\n",
    "    \n",
    "    for i, row in tqdm(repeat_df.iterrows(), total=needed, desc=f\"Augmenting {label}\"):\n",
    "        text = row['clean_text']\n",
    "        try:\n",
    "            aug_text = paraphrase_text(text) if i % 2 == 0 else back_translate(text)\n",
    "        except:\n",
    "            aug_text = text\n",
    "        \n",
    "        augmented_rows.append({\n",
    "            \"text\": row['text'],\n",
    "            \"clean_text\": aug_text,\n",
    "            \"label\": label\n",
    "        })\n",
    "\n",
    "augmented_df = pd.DataFrame(augmented_rows)"
   ]
  },
  {
   "cell_type": "code",
   "execution_count": null,
   "id": "28dcdae7",
   "metadata": {},
   "outputs": [],
   "source": [
    "# Gabungkan dataset asli dan augmented\n",
    "final_df = pd.concat([data, augmented_df], ignore_index=True)\n",
    "print(\"Distribusi baru:\\n\", final_df['label'].value_counts())"
   ]
  },
  {
   "cell_type": "code",
   "execution_count": null,
   "id": "a3121adf",
   "metadata": {},
   "outputs": [],
   "source": [
    "final_df.to_csv(\"data/prepData1.csv\", index=False)"
   ]
  },
  {
   "cell_type": "code",
   "execution_count": null,
   "id": "f4f53545",
   "metadata": {},
   "outputs": [],
   "source": [
    "from sklearn.feature_extraction.text import TfidfVectorizer\n",
    "\n",
    "vectorizer = TfidfVectorizer(\n",
    "    max_features=10000,       # jumlah fitur maksimum\n",
    "    ngram_range=(1,2),        # unigram + bigram\n",
    "    min_df=5,                 # kata minimal muncul di 5 dokumen\n",
    ")\n",
    "X = vectorizer.fit_transform(data['clean_text'])"
   ]
  },
  {
   "cell_type": "code",
   "execution_count": null,
   "id": "f2a8fa6b",
   "metadata": {},
   "outputs": [],
   "source": [
    "from sklearn.preprocessing import LabelEncoder\n",
    "\n",
    "le = LabelEncoder()\n",
    "y = le.fit_transform(data['label'])\n"
   ]
  },
  {
   "cell_type": "code",
   "execution_count": null,
   "id": "1a844d7e",
   "metadata": {},
   "outputs": [],
   "source": [
    "from sklearn.model_selection import train_test_split\n",
    "\n",
    "X_train, X_test, y_train, y_test = train_test_split(\n",
    "    X, y, test_size=0.2, random_state=42, stratify=y\n",
    ")"
   ]
  },
  {
   "cell_type": "code",
   "execution_count": null,
   "id": "af4a0bfb",
   "metadata": {},
   "outputs": [
    {
     "data": {
      "text/html": [
       "<style>#sk-container-id-1 {color: black;background-color: white;}#sk-container-id-1 pre{padding: 0;}#sk-container-id-1 div.sk-toggleable {background-color: white;}#sk-container-id-1 label.sk-toggleable__label {cursor: pointer;display: block;width: 100%;margin-bottom: 0;padding: 0.3em;box-sizing: border-box;text-align: center;}#sk-container-id-1 label.sk-toggleable__label-arrow:before {content: \"▸\";float: left;margin-right: 0.25em;color: #696969;}#sk-container-id-1 label.sk-toggleable__label-arrow:hover:before {color: black;}#sk-container-id-1 div.sk-estimator:hover label.sk-toggleable__label-arrow:before {color: black;}#sk-container-id-1 div.sk-toggleable__content {max-height: 0;max-width: 0;overflow: hidden;text-align: left;background-color: #f0f8ff;}#sk-container-id-1 div.sk-toggleable__content pre {margin: 0.2em;color: black;border-radius: 0.25em;background-color: #f0f8ff;}#sk-container-id-1 input.sk-toggleable__control:checked~div.sk-toggleable__content {max-height: 200px;max-width: 100%;overflow: auto;}#sk-container-id-1 input.sk-toggleable__control:checked~label.sk-toggleable__label-arrow:before {content: \"▾\";}#sk-container-id-1 div.sk-estimator input.sk-toggleable__control:checked~label.sk-toggleable__label {background-color: #d4ebff;}#sk-container-id-1 div.sk-label input.sk-toggleable__control:checked~label.sk-toggleable__label {background-color: #d4ebff;}#sk-container-id-1 input.sk-hidden--visually {border: 0;clip: rect(1px 1px 1px 1px);clip: rect(1px, 1px, 1px, 1px);height: 1px;margin: -1px;overflow: hidden;padding: 0;position: absolute;width: 1px;}#sk-container-id-1 div.sk-estimator {font-family: monospace;background-color: #f0f8ff;border: 1px dotted black;border-radius: 0.25em;box-sizing: border-box;margin-bottom: 0.5em;}#sk-container-id-1 div.sk-estimator:hover {background-color: #d4ebff;}#sk-container-id-1 div.sk-parallel-item::after {content: \"\";width: 100%;border-bottom: 1px solid gray;flex-grow: 1;}#sk-container-id-1 div.sk-label:hover label.sk-toggleable__label {background-color: #d4ebff;}#sk-container-id-1 div.sk-serial::before {content: \"\";position: absolute;border-left: 1px solid gray;box-sizing: border-box;top: 0;bottom: 0;left: 50%;z-index: 0;}#sk-container-id-1 div.sk-serial {display: flex;flex-direction: column;align-items: center;background-color: white;padding-right: 0.2em;padding-left: 0.2em;position: relative;}#sk-container-id-1 div.sk-item {position: relative;z-index: 1;}#sk-container-id-1 div.sk-parallel {display: flex;align-items: stretch;justify-content: center;background-color: white;position: relative;}#sk-container-id-1 div.sk-item::before, #sk-container-id-1 div.sk-parallel-item::before {content: \"\";position: absolute;border-left: 1px solid gray;box-sizing: border-box;top: 0;bottom: 0;left: 50%;z-index: -1;}#sk-container-id-1 div.sk-parallel-item {display: flex;flex-direction: column;z-index: 1;position: relative;background-color: white;}#sk-container-id-1 div.sk-parallel-item:first-child::after {align-self: flex-end;width: 50%;}#sk-container-id-1 div.sk-parallel-item:last-child::after {align-self: flex-start;width: 50%;}#sk-container-id-1 div.sk-parallel-item:only-child::after {width: 0;}#sk-container-id-1 div.sk-dashed-wrapped {border: 1px dashed gray;margin: 0 0.4em 0.5em 0.4em;box-sizing: border-box;padding-bottom: 0.4em;background-color: white;}#sk-container-id-1 div.sk-label label {font-family: monospace;font-weight: bold;display: inline-block;line-height: 1.2em;}#sk-container-id-1 div.sk-label-container {text-align: center;}#sk-container-id-1 div.sk-container {/* jupyter's `normalize.less` sets `[hidden] { display: none; }` but bootstrap.min.css set `[hidden] { display: none !important; }` so we also need the `!important` here to be able to override the default hidden behavior on the sphinx rendered scikit-learn.org. See: https://github.com/scikit-learn/scikit-learn/issues/21755 */display: inline-block !important;position: relative;}#sk-container-id-1 div.sk-text-repr-fallback {display: none;}</style><div id=\"sk-container-id-1\" class=\"sk-top-container\"><div class=\"sk-text-repr-fallback\"><pre>XGBClassifier(base_score=None, booster=None, callbacks=None,\n",
       "              colsample_bylevel=None, colsample_bynode=None,\n",
       "              colsample_bytree=0.8, device=None, early_stopping_rounds=None,\n",
       "              enable_categorical=False, eval_metric=&#x27;mlogloss&#x27;,\n",
       "              feature_types=None, gamma=None, grow_policy=None,\n",
       "              importance_type=None, interaction_constraints=None,\n",
       "              learning_rate=0.1, max_bin=None, max_cat_threshold=None,\n",
       "              max_cat_to_onehot=None, max_delta_step=None, max_depth=6,\n",
       "              max_leaves=None, min_child_weight=None, missing=nan,\n",
       "              monotone_constraints=None, multi_strategy=None, n_estimators=300,\n",
       "              n_jobs=None, num_parallel_tree=None, objective=&#x27;multi:softprob&#x27;, ...)</pre><b>In a Jupyter environment, please rerun this cell to show the HTML representation or trust the notebook. <br />On GitHub, the HTML representation is unable to render, please try loading this page with nbviewer.org.</b></div><div class=\"sk-container\" hidden><div class=\"sk-item\"><div class=\"sk-estimator sk-toggleable\"><input class=\"sk-toggleable__control sk-hidden--visually\" id=\"sk-estimator-id-1\" type=\"checkbox\" checked><label for=\"sk-estimator-id-1\" class=\"sk-toggleable__label sk-toggleable__label-arrow\">XGBClassifier</label><div class=\"sk-toggleable__content\"><pre>XGBClassifier(base_score=None, booster=None, callbacks=None,\n",
       "              colsample_bylevel=None, colsample_bynode=None,\n",
       "              colsample_bytree=0.8, device=None, early_stopping_rounds=None,\n",
       "              enable_categorical=False, eval_metric=&#x27;mlogloss&#x27;,\n",
       "              feature_types=None, gamma=None, grow_policy=None,\n",
       "              importance_type=None, interaction_constraints=None,\n",
       "              learning_rate=0.1, max_bin=None, max_cat_threshold=None,\n",
       "              max_cat_to_onehot=None, max_delta_step=None, max_depth=6,\n",
       "              max_leaves=None, min_child_weight=None, missing=nan,\n",
       "              monotone_constraints=None, multi_strategy=None, n_estimators=300,\n",
       "              n_jobs=None, num_parallel_tree=None, objective=&#x27;multi:softprob&#x27;, ...)</pre></div></div></div></div></div>"
      ],
      "text/plain": [
       "XGBClassifier(base_score=None, booster=None, callbacks=None,\n",
       "              colsample_bylevel=None, colsample_bynode=None,\n",
       "              colsample_bytree=0.8, device=None, early_stopping_rounds=None,\n",
       "              enable_categorical=False, eval_metric='mlogloss',\n",
       "              feature_types=None, gamma=None, grow_policy=None,\n",
       "              importance_type=None, interaction_constraints=None,\n",
       "              learning_rate=0.1, max_bin=None, max_cat_threshold=None,\n",
       "              max_cat_to_onehot=None, max_delta_step=None, max_depth=6,\n",
       "              max_leaves=None, min_child_weight=None, missing=nan,\n",
       "              monotone_constraints=None, multi_strategy=None, n_estimators=300,\n",
       "              n_jobs=None, num_parallel_tree=None, objective='multi:softprob', ...)"
      ]
     },
     "execution_count": 17,
     "metadata": {},
     "output_type": "execute_result"
    }
   ],
   "source": [
    "from xgboost import XGBClassifier\n",
    "\n",
    "xgb_model = XGBClassifier(\n",
    "    n_estimators=300,\n",
    "    max_depth=6,\n",
    "    learning_rate=0.1,\n",
    "    subsample=0.8,\n",
    "    colsample_bytree=0.8,\n",
    "    random_state=42,\n",
    "    eval_metric='mlogloss'\n",
    ")\n",
    "xgb_model.fit(X_train, y_train)\n"
   ]
  },
  {
   "cell_type": "code",
   "execution_count": null,
   "id": "34aba399",
   "metadata": {},
   "outputs": [
    {
     "name": "stdout",
     "output_type": "stream",
     "text": [
      "XGBoost Accuracy: 0.793\n",
      "              precision    recall  f1-score   support\n",
      "\n",
      "           0       0.60      0.23      0.33        13\n",
      "           1       0.73      0.70      0.71        73\n",
      "           2       0.00      0.00      0.00         4\n",
      "           3       0.88      0.53      0.66        80\n",
      "           4       0.75      0.64      0.69        80\n",
      "           5       0.80      0.94      0.87       594\n",
      "           6       0.76      0.59      0.66       117\n",
      "           7       0.85      0.44      0.58        39\n",
      "\n",
      "    accuracy                           0.79      1000\n",
      "   macro avg       0.67      0.51      0.56      1000\n",
      "weighted avg       0.79      0.79      0.78      1000\n",
      "\n"
     ]
    }
   ],
   "source": [
    "from sklearn.metrics import classification_report, accuracy_score\n",
    "\n",
    "y_pred_xgb = xgb_model.predict(X_test)\n",
    "\n",
    "print(\"XGBoost Accuracy:\", accuracy_score(y_test, y_pred_xgb))\n",
    "print(classification_report(y_test, y_pred_xgb))"
   ]
  },
  {
   "cell_type": "code",
   "execution_count": null,
   "id": "15a5774e",
   "metadata": {},
   "outputs": [],
   "source": []
  }
 ],
 "metadata": {
  "kernelspec": {
   "display_name": "Python 3",
   "language": "python",
   "name": "python3"
  },
  "language_info": {
   "codemirror_mode": {
    "name": "ipython",
    "version": 3
   },
   "file_extension": ".py",
   "mimetype": "text/x-python",
   "name": "python",
   "nbconvert_exporter": "python",
   "pygments_lexer": "ipython3",
   "version": "3.9.12"
  }
 },
 "nbformat": 4,
 "nbformat_minor": 5
}
